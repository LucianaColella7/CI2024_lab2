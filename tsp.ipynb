{
 "cells": [
  {
   "cell_type": "markdown",
   "metadata": {},
   "source": [
    "## Lab2 - TSP\n",
    "\n",
    "https://www.wolframcloud.com/obj/giovanni.squillero/Published/Lab2-tsp.nb"
   ]
  },
  {
   "cell_type": "code",
   "execution_count": 638,
   "metadata": {},
   "outputs": [],
   "source": [
    "import logging\n",
    "import pandas as pd\n",
    "import numpy as np\n",
    "import geopy.distance\n",
    "import networkx as nx\n",
    "import random\n",
    "\n",
    "from itertools import combinations\n",
    "from dataclasses import dataclass\n",
    "from icecream import ic\n",
    "from tqdm.auto import tqdm"
   ]
  },
  {
   "cell_type": "code",
   "execution_count": 639,
   "metadata": {},
   "outputs": [],
   "source": [
    "\n",
    "countries = ['China', 'Italy', 'Russia', 'US', 'Vanuatu']\n",
    "cities = []\n",
    "dist_matrix = []\n"
   ]
  },
  {
   "cell_type": "markdown",
   "metadata": {},
   "source": [
    "## Helper functions"
   ]
  },
  {
   "cell_type": "code",
   "execution_count": 640,
   "metadata": {},
   "outputs": [],
   "source": [
    "\n",
    "@dataclass\n",
    "class Individual:\n",
    "    genome: np.ndarray\n",
    "    fitness: float = None\n",
    "\n",
    "\n",
    "def tsp_cost(tsp):\n",
    "    #VALIDATING the tsp array\n",
    "    #Ensures that the path starts and ends at the same city \n",
    "    assert tsp[0] == tsp[-1]\n",
    "    #Checks that the path includes all cities exactly once before returning to the start\n",
    "    assert set(tsp) == set(range(len(cities)))\n",
    "\n",
    "    tot_cost = 0\n",
    "    for c1, c2 in zip(tsp, tsp[1:]):\n",
    "        tot_cost += dist_matrix[c1, c2]\n",
    "    return tot_cost\n",
    "\n",
    "\n",
    "def fitness(path):\n",
    "    return float(tsp_cost(path))"
   ]
  },
  {
   "cell_type": "markdown",
   "metadata": {},
   "source": [
    "## Loading data"
   ]
  },
  {
   "cell_type": "code",
   "execution_count": 641,
   "metadata": {},
   "outputs": [],
   "source": [
    "\n",
    "def init_data(selected_country):\n",
    "    # Loading data\n",
    "    cities = pd.read_csv(f'cities/{selected_country}.csv', header=None, names=['name', 'lat', 'lon'])\n",
    "\n",
    "    # Calculating distances between cities\n",
    "    dist_matrix = np.zeros((len(cities), len(cities)))\n",
    "    for c1, c2 in combinations(cities.itertuples(), 2):\n",
    "        dist_matrix[c1.Index, c2.Index] = dist_matrix[c2.Index, c1.Index] = geopy.distance.geodesic(\n",
    "            (c1.lat, c1.lon), (c2.lat, c2.lon)\n",
    "        ).km\n",
    "\n",
    "    return cities, dist_matrix\n"
   ]
  },
  {
   "cell_type": "markdown",
   "metadata": {},
   "source": [
    "## Greedy Algorithm"
   ]
  },
  {
   "cell_type": "code",
   "execution_count": 642,
   "metadata": {},
   "outputs": [],
   "source": [
    "def greedy_tsp(cities, dist_matrix, init_city):\n",
    "    visited = np.full(len(cities), False)\n",
    "    dist = dist_matrix.copy()\n",
    "    visited[init_city] = True\n",
    "    tsp = list()\n",
    "    tsp.append(int(init_city))\n",
    "    while not np.all(visited):\n",
    "        dist[:, init_city] = np.inf\n",
    "        closest = np.argmin(dist[init_city])\n",
    "        visited[closest] = True\n",
    "        init_city = closest\n",
    "        tsp.append(int(init_city))\n",
    "      \n",
    "    tsp.append(tsp[0])\n",
    "    return tsp"
   ]
  },
  {
   "cell_type": "markdown",
   "metadata": {},
   "source": [
    "## Genetic Algorithm + Greedy Algorithm"
   ]
  },
  {
   "cell_type": "markdown",
   "metadata": {},
   "source": [
    "#### General Settings for each instance"
   ]
  },
  {
   "cell_type": "code",
   "execution_count": 643,
   "metadata": {},
   "outputs": [],
   "source": [
    "BEST_RESULTS = ['-', '4172.76', '32722.5', '3899745', '1345.54']\n",
    "PERC_GREEDYs = [0.2, 0.4, 0.2, 0.2, 0.2]  \n",
    "MAX_GENERATIONS_list = [1000, 1000, 1000, 1000, 100]  \n",
    "POPULATION_SIZES = [500, 300, 500, 500, 200] \n",
    "OFFSPRING_SIZES = [300, 200, 300, 300, 100]  "
   ]
  },
  {
   "cell_type": "code",
   "execution_count": 644,
   "metadata": {},
   "outputs": [],
   "source": [
    "# PARENT SELECTION\n",
    "# Fitness proportional\n",
    "def parent_selection(population):\n",
    "    candidates = sorted(np.random.choice(population, 2), key=lambda e: e.fitness, reverse=True)\n",
    "    return candidates[0]\n",
    "\n",
    "\n",
    "# ************ CROSSOVER\n",
    "def inverOver(p1: Individual, p2: Individual, init_city=0):\n",
    "        new_path = []\n",
    "        # Extract the paths without start and end city\n",
    "        path1 = p1.genome[1:-1]\n",
    "        path2 = p2.genome[1:-1]\n",
    "        \n",
    "        # Select a random element in path1\n",
    "        first_index_p1 = np.random.randint(len(path1))\n",
    "        first_city = path1[first_index_p1]\n",
    "\n",
    "        # Find the selected element in path2 and determine the second element\n",
    "        first_index_p2 = path2.index(first_city)\n",
    "        second_city = path2[first_index_p2 + 1] if first_index_p2 + 1 < len(path2) else path2[0]\n",
    "\n",
    "        # Find the position of the second element in path1\n",
    "        second_index_p1 = path1.index(second_city)\n",
    "\n",
    "        # Perform inversion based on relative positions of indices\n",
    "        if second_index_p1 > first_index_p1:\n",
    "            traits_p1 = path1[first_index_p1 + 1:second_index_p1][::-1]\n",
    "            new_path += path1[:first_index_p1] + [first_city, second_city] + traits_p1 + path1[second_index_p1 + 1:]\n",
    "        else:\n",
    "            traits_p1 = path1[second_index_p1 + 1:first_index_p1][::-1]\n",
    "            new_path = path1[:second_index_p1] + [second_city, first_city] + traits_p1 + path1[first_index_p1 + 1:]\n",
    "\n",
    "        # Adding init_city at the start and end\n",
    "        new_path = [init_city] + new_path + [init_city]\n",
    "       \n",
    "        return Individual(new_path, fitness(new_path))\n",
    "        \n",
    "\n",
    "\n",
    "#*************** POSSIBLE MUTATIONS\n",
    "# SWAP MUTATION\n",
    "def swap_mutation(p: Individual,init_city=0, prob = None):\n",
    "    genome = p.genome.copy()\n",
    "\n",
    "    while np.random.random() < 0.2:\n",
    "        #find 2 indexes (ignoring start and end city)\n",
    "        i, j = np.random.choice(np.arange(1, len(genome) - 1), size=2, replace=False)\n",
    "        # Swapping 2 elements\n",
    "        genome[i], genome[j] = genome[j], genome[i]\n",
    "\n",
    "    return Individual(genome, fitness(genome))\n",
    "\n",
    "\n",
    "\n",
    "# SCRUMBLE MUTATION\n",
    "def scrumble_mutation(p: Individual, init_city=0, prob = None):\n",
    "    genome = p.genome.copy()\n",
    "    \n",
    "    # Take a random number of cities to change (from 2 changes to half of possible cities)\n",
    "    num_loci = np.random.randint(2, int((len(genome) - 2) / 2))\n",
    "    \n",
    "    # Select random positions without start and end city\n",
    "    positions = np.random.choice(np.arange(1, len(genome) - 2), size=num_loci, replace=False)\n",
    "    # Selected cities\n",
    "    selected_cities = [genome[i] for i in positions]\n",
    "\n",
    "    # Shuffle the selected cities\n",
    "    random.shuffle(selected_cities)\n",
    "    \n",
    "    # Assign the shuffled cities to the selected positions\n",
    "    for idx, city in zip(positions, selected_cities):\n",
    "        genome[idx] = city\n",
    "\n",
    "    return Individual(genome, fitness(genome))\n",
    "\n",
    "\n",
    "# INVERSION MUTATION\n",
    "def inversion_mutation(p: Individual, init_city=0, prob = None):\n",
    "    # Extract the paths without start and end city\n",
    "    path = p.genome[1:-1]\n",
    "    n = len(path)\n",
    "\n",
    "    # Choosing 2 random indexes to perform the inversion\n",
    "    first, second = sorted(np.random.choice(n, 2, replace=False))\n",
    "    \n",
    "    # Creating a new route by reversing the segment between first and second\n",
    "    mutated_path =  path[:first] + path[first:second + 1][::-1] + path[second + 1:]\n",
    "    # Adding start and end city\n",
    "    new_path =  [init_city] + mutated_path + [init_city]\n",
    "\n",
    "    return Individual(new_path, fitness(new_path))\n"
   ]
  },
  {
   "cell_type": "code",
   "execution_count": 645,
   "metadata": {},
   "outputs": [],
   "source": [
    "# Generate a random individual\n",
    "def generate_random_individual(init_city=0):\n",
    "    num_cities = len(cities)\n",
    "    # Randomly select cities, excluding init_city, avoiding duplicates\n",
    "    path = [init_city] + list(np.random.choice([i for i in range(num_cities) if i != init_city], size=num_cities - 1, replace=False)) + [init_city]\n",
    "    return Individual(path, fitness(path))\n",
    "\n",
    "\n",
    "# Create initial population\n",
    "def fill_population(percentage, size, init_solution, init_city=0):\n",
    "    # Number of initial solutions to start from\n",
    "    num_init_solution = int(percentage * size)\n",
    "    \n",
    "    # Adding individuals with initial solutions as genome\n",
    "    population = [Individual(init_solution, fitness(init_solution)) for _ in range(num_init_solution)]\n",
    "    \n",
    "    # Adding random individuals\n",
    "    population += [generate_random_individual(init_city) for _ in range(size - num_init_solution)]\n",
    "\n",
    "    return population\n"
   ]
  },
  {
   "cell_type": "code",
   "execution_count": 646,
   "metadata": {},
   "outputs": [],
   "source": [
    "def genetic_algorithm(init_city,init_solution, percentage_greedy, POPULATION_SIZE, OFFSPRING_SIZE, MAX_GENERATIONS, mutation_type, xover_type):\n",
    "    \n",
    "    # Initialize population with all equal greedy solution\n",
    "    population = fill_population(percentage_greedy, POPULATION_SIZE, init_solution, init_city)\n",
    "\n",
    "    mutation = mutation_type\n",
    "    xover = xover_type\n",
    "\n",
    "    # Initial probability to apply a mutation\n",
    "    strength = .3\n",
    "\n",
    "    for g in tqdm(range(MAX_GENERATIONS)):\n",
    "        offspring = list()\n",
    "        \n",
    "        # Self adaptive strength -> we prefer mutation (exploitation) going on with the generations\n",
    "        if g % 100 == 0 and g != 0:\n",
    "            strength += 0.2\n",
    "\n",
    "        for _ in range(OFFSPRING_SIZE):\n",
    "            #HYPERMODERN\n",
    "            if np.random.random() < strength:\n",
    "                #MUTATION\n",
    "                p = parent_selection(population)\n",
    "                o = mutation(p, init_city)\n",
    "            else:\n",
    "                #RECOMBINATION\n",
    "                p1 = parent_selection(population)\n",
    "                p2 = parent_selection(population)\n",
    "                o = xover(p1, p2, init_city)\n",
    "\n",
    "            offspring.append(o)\n",
    "\n",
    "        population.extend(offspring)\n",
    "        population.sort(key=lambda i: i.fitness, reverse=False)\n",
    "\n",
    "        population = population[:POPULATION_SIZE]\n",
    "\n",
    "    return population[0].genome, population[0].fitness\n"
   ]
  },
  {
   "cell_type": "code",
   "execution_count": 648,
   "metadata": {},
   "outputs": [
    {
     "name": "stdout",
     "output_type": "stream",
     "text": [
      "-----------------------------\n",
      "\n",
      "Processing: China\n",
      "Number of cities: 726\n",
      "Initial distance: 63962.918429455196 km\n"
     ]
    },
    {
     "data": {
      "application/vnd.jupyter.widget-view+json": {
       "model_id": "1e24d6717faf4006a840c86edb6e0903",
       "version_major": 2,
       "version_minor": 0
      },
      "text/plain": [
       "  0%|          | 0/1000 [00:00<?, ?it/s]"
      ]
     },
     "metadata": {},
     "output_type": "display_data"
    },
    {
     "name": "stdout",
     "output_type": "stream",
     "text": [
      "\n",
      "Best distance found: 62826.3790916235 km\n",
      "Number of steps: 726\n",
      "\n",
      "Known best result: - km\n"
     ]
    }
   ],
   "source": [
    "#Choose the country\n",
    "selected_country = 0 #China\n",
    "init_city = 0\n",
    "\n",
    "\n",
    "print('-----------------------------')\n",
    "print(f\"\\nProcessing: {countries[selected_country]}\")\n",
    "        \n",
    "# Loading city data and generate distance matrix\n",
    "cities, dist_matrix = init_data(countries[selected_country])\n",
    "print(f\"Number of cities: {dist_matrix.shape[0]}\")\n",
    "        \n",
    "# Generating a greedy initial solution\n",
    "greedy_solution = greedy_tsp(cities, dist_matrix, init_city)\n",
    "print(f\"Initial distance: {fitness(greedy_solution)} km\")\n",
    "\n",
    "# Genetic algorithm to find the best solution\n",
    "best_path, best_distance = genetic_algorithm(\n",
    "            init_city, greedy_solution, \n",
    "            percentage_greedy=PERC_GREEDYs[selected_country], \n",
    "            POPULATION_SIZE=POPULATION_SIZES[selected_country], \n",
    "            OFFSPRING_SIZE=OFFSPRING_SIZES[selected_country], \n",
    "            MAX_GENERATIONS=MAX_GENERATIONS_list[selected_country],\n",
    "            mutation_type=inversion_mutation, \n",
    "            xover_type=inverOver\n",
    "        )\n",
    "\n",
    "# Results\n",
    "print(f\"\\nBest distance found: {best_distance} km\")\n",
    "print(f\"Number of steps: {len(best_path) - 1}\")\n",
    "print(f\"\\nKnown best result: {BEST_RESULTS[selected_country]} km\")"
   ]
  }
 ],
 "metadata": {
  "kernelspec": {
   "display_name": "venv",
   "language": "python",
   "name": "python3"
  },
  "language_info": {
   "codemirror_mode": {
    "name": "ipython",
    "version": 3
   },
   "file_extension": ".py",
   "mimetype": "text/x-python",
   "name": "python",
   "nbconvert_exporter": "python",
   "pygments_lexer": "ipython3",
   "version": "3.12.6"
  }
 },
 "nbformat": 4,
 "nbformat_minor": 2
}
