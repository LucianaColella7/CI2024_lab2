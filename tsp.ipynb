{
 "cells": [
  {
   "cell_type": "markdown",
   "metadata": {},
   "source": [
    "## Lab2 - TSP\n",
    "\n",
    "https://www.wolframcloud.com/obj/giovanni.squillero/Published/Lab2-tsp.nb"
   ]
  },
  {
   "cell_type": "code",
   "execution_count": 638,
   "metadata": {},
   "outputs": [],
   "source": [
    "import logging\n",
    "import pandas as pd\n",
    "import numpy as np\n",
    "import geopy.distance\n",
    "import networkx as nx\n",
    "import random\n",
    "\n",
    "from itertools import combinations\n",
    "from dataclasses import dataclass\n",
    "from icecream import ic\n",
    "from tqdm.auto import tqdm"
   ]
  },
  {
   "cell_type": "code",
   "execution_count": 639,
   "metadata": {},
   "outputs": [],
   "source": [
    "\n",
    "countries = ['China', 'Italy', 'Russia', 'US', 'Vanuatu']\n",
    "cities = []\n",
    "dist_matrix = []\n"
   ]
  },
  {
   "cell_type": "markdown",
   "metadata": {},
   "source": [
    "## Helper functions"
   ]
  },
  {
   "cell_type": "code",
   "execution_count": 640,
   "metadata": {},
   "outputs": [],
   "source": [
    "\n",
    "@dataclass\n",
    "class Individual:\n",
    "    genome: np.ndarray\n",
    "    fitness: float = None\n",
    "\n",
    "\n",
    "def tsp_cost(tsp):\n",
    "    #VALIDATING the tsp array\n",
    "    #Ensures that the path starts and ends at the same city \n",
    "    assert tsp[0] == tsp[-1]\n",
    "    #Checks that the path includes all cities exactly once before returning to the start\n",
    "    assert set(tsp) == set(range(len(cities)))\n",
    "\n",
    "    tot_cost = 0\n",
    "    for c1, c2 in zip(tsp, tsp[1:]):\n",
    "        tot_cost += dist_matrix[c1, c2]\n",
    "    return tot_cost\n",
    "\n",
    "\n",
    "def fitness(path):\n",
    "    return float(tsp_cost(path))"
   ]
  },
  {
   "cell_type": "markdown",
   "metadata": {},
   "source": [
    "## Loading data"
   ]
  },
  {
   "cell_type": "code",
   "execution_count": 641,
   "metadata": {},
   "outputs": [],
   "source": [
    "\n",
    "def init_data(selected_country):\n",
    "    # Loading data\n",
    "    cities = pd.read_csv(f'cities/{selected_country}.csv', header=None, names=['name', 'lat', 'lon'])\n",
    "\n",
    "    # Calculating distances between cities\n",
    "    dist_matrix = np.zeros((len(cities), len(cities)))\n",
    "    for c1, c2 in combinations(cities.itertuples(), 2):\n",
    "        dist_matrix[c1.Index, c2.Index] = dist_matrix[c2.Index, c1.Index] = geopy.distance.geodesic(\n",
    "            (c1.lat, c1.lon), (c2.lat, c2.lon)\n",
    "        ).km\n",
    "\n",
    "    return cities, dist_matrix\n"
   ]
  },
  {
   "cell_type": "markdown",
   "metadata": {},
   "source": [
    "## Greedy Algorithm"
   ]
  },
  {
   "cell_type": "code",
   "execution_count": 642,
   "metadata": {},
   "outputs": [],
   "source": [
    "def greedy_tsp(cities, dist_matrix, init_city):\n",
    "    visited = np.full(len(cities), False)\n",
    "    dist = dist_matrix.copy()\n",
    "    visited[init_city] = True\n",
    "    tsp = list()\n",
    "    tsp.append(int(init_city))\n",
    "    while not np.all(visited):\n",
    "        dist[:, init_city] = np.inf\n",
    "        closest = np.argmin(dist[init_city])\n",
    "        visited[closest] = True\n",
    "        init_city = closest\n",
    "        tsp.append(int(init_city))\n",
    "      \n",
    "    tsp.append(tsp[0])\n",
    "    return tsp"
   ]
  },
  {
   "cell_type": "markdown",
   "metadata": {},
   "source": [
    "## Genetic Algorithm + Greedy Algorithm"
   ]
  },
  {
   "cell_type": "markdown",
   "metadata": {},
   "source": [
    "#### General Settings for each instance"
   ]
  },
  {
   "cell_type": "code",
   "execution_count": 643,
   "metadata": {},
   "outputs": [],
   "source": [
    "BEST_RESULTS = ['-', '4172.76', '32722.5', '3899745', '1345.54']\n",
    "PERC_GREEDYs = [0.2, 0.4, 0.2, 0.2, 0.2]  \n",
    "MAX_GENERATIONS_list = [1000, 1000, 1000, 1000, 100]  \n",
    "POPULATION_SIZES = [500, 300, 500, 500, 200] \n",
    "OFFSPRING_SIZES = [300, 200, 300, 300, 100]  "
   ]
  },
  {
   "cell_type": "code",
   "execution_count": 644,
   "metadata": {},
   "outputs": [],
   "source": [
    "# PARENT SELECTION\n",
    "# Fitness proportional\n",
    "def parent_selection(population):\n",
    "    candidates = sorted(np.random.choice(population, 2), key=lambda e: e.fitness, reverse=True)\n",
    "    return candidates[0]\n",
    "\n",
    "\n",
    "# ************ CROSSOVER\n",
    "def inverOver(p1: Individual, p2: Individual, init_city=0):\n",
    "        new_path = []\n",
    "        # Extract the paths without start and end city\n",
    "        path1 = p1.genome[1:-1]\n",
    "        path2 = p2.genome[1:-1]\n",
    "        \n",
    "        # Select a random element in path1\n",
    "        first_index_p1 = np.random.randint(len(path1))\n",
    "        first_city = path1[first_index_p1]\n",
    "\n",
    "        # Find the selected element in path2 and determine the second element\n",
    "        first_index_p2 = path2.index(first_city)\n",
    "        second_city = path2[first_index_p2 + 1] if first_index_p2 + 1 < len(path2) else path2[0]\n",
    "\n",
    "        # Find the position of the second element in path1\n",
    "        second_index_p1 = path1.index(second_city)\n",
    "\n",
    "        # Perform inversion based on relative positions of indices\n",
    "        if second_index_p1 > first_index_p1:\n",
    "            traits_p1 = path1[first_index_p1 + 1:second_index_p1][::-1]\n",
    "            new_path += path1[:first_index_p1] + [first_city, second_city] + traits_p1 + path1[second_index_p1 + 1:]\n",
    "        else:\n",
    "            traits_p1 = path1[second_index_p1 + 1:first_index_p1][::-1]\n",
    "            new_path = path1[:second_index_p1] + [second_city, first_city] + traits_p1 + path1[first_index_p1 + 1:]\n",
    "\n",
    "        # Adding init_city at the start and end\n",
    "        new_path = [init_city] + new_path + [init_city]\n",
    "       \n",
    "        return Individual(new_path, fitness(new_path))\n",
    "        \n",
    "\n",
    "\n",
    "#*************** POSSIBLE MUTATIONS\n",
    "# SWAP MUTATION\n",
    "def swap_mutation(p: Individual,init_city=0, prob = None):\n",
    "    genome = p.genome.copy()\n",
    "\n",
    "    while np.random.random() < 0.2:\n",
    "        #find 2 indexes (ignoring start and end city)\n",
    "        i, j = np.random.choice(np.arange(1, len(genome) - 1), size=2, replace=False)\n",
    "        # Swapping 2 elements\n",
    "        genome[i], genome[j] = genome[j], genome[i]\n",
    "\n",
    "    return Individual(genome, fitness(genome))\n",
    "\n",
    "\n",
    "\n",
    "# SCRUMBLE MUTATION\n",
    "def scrumble_mutation(p: Individual, init_city=0, prob = None):\n",
    "    genome = p.genome.copy()\n",
    "    \n",
    "    # Take a random number of cities to change (from 2 changes to half of possible cities)\n",
    "    num_loci = np.random.randint(2, int((len(genome) - 2) / 2))\n",
    "    \n",
    "    # Select random positions without start and end city\n",
    "    positions = np.random.choice(np.arange(1, len(genome) - 2), size=num_loci, replace=False)\n",
    "    # Selected cities\n",
    "    selected_cities = [genome[i] for i in positions]\n",
    "\n",
    "    # Shuffle the selected cities\n",
    "    random.shuffle(selected_cities)\n",
    "    \n",
    "    # Assign the shuffled cities to the selected positions\n",
    "    for idx, city in zip(positions, selected_cities):\n",
    "        genome[idx] = city\n",
    "\n",
    "    return Individual(genome, fitness(genome))\n",
    "\n",
    "\n",
    "# INVERSION MUTATION\n",
    "def inversion_mutation(p: Individual, init_city=0, prob = None):\n",
    "    # Extract the paths without start and end city\n",
    "    path = p.genome[1:-1]\n",
    "    n = len(path)\n",
    "\n",
    "    # Choosing 2 random indexes to perform the inversion\n",
    "    first, second = sorted(np.random.choice(n, 2, replace=False))\n",
    "    \n",
    "    # Creating a new route by reversing the segment between first and second\n",
    "    mutated_path =  path[:first] + path[first:second + 1][::-1] + path[second + 1:]\n",
    "    # Adding start and end city\n",
    "    new_path =  [init_city] + mutated_path + [init_city]\n",
    "\n",
    "    return Individual(new_path, fitness(new_path))\n"
   ]
  },
  {
   "cell_type": "code",
   "execution_count": 645,
   "metadata": {},
   "outputs": [],
   "source": [
    "# Generate a random individual\n",
    "def generate_random_individual(init_city=0):\n",
    "    num_cities = len(cities)\n",
    "    # Randomly select cities, excluding init_city, avoiding duplicates\n",
    "    path = [init_city] + list(np.random.choice([i for i in range(num_cities) if i != init_city], size=num_cities - 1, replace=False)) + [init_city]\n",
    "    return Individual(path, fitness(path))\n",
    "\n",
    "\n",
    "# Create initial population\n",
    "def fill_population(percentage, size, init_solution, init_city=0):\n",
    "    # Number of initial solutions to start from\n",
    "    num_init_solution = int(percentage * size)\n",
    "    \n",
    "    # Adding individuals with initial solutions as genome\n",
    "    population = [Individual(init_solution, fitness(init_solution)) for _ in range(num_init_solution)]\n",
    "    \n",
    "    # Adding random individuals\n",
    "    population += [generate_random_individual(init_city) for _ in range(size - num_init_solution)]\n",
    "\n",
    "    return population\n"
   ]
  },
  {
   "cell_type": "code",
   "execution_count": 646,
   "metadata": {},
   "outputs": [],
   "source": [
    "def genetic_algorithm(init_city,init_solution, percentage_greedy, POPULATION_SIZE, OFFSPRING_SIZE, MAX_GENERATIONS, mutation_type, xover_type):\n",
    "    \n",
    "    # Initialize population with all equal greedy solution\n",
    "    population = fill_population(percentage_greedy, POPULATION_SIZE, init_solution, init_city)\n",
    "\n",
    "    mutation = mutation_type\n",
    "    xover = xover_type\n",
    "\n",
    "    # Initial probability to apply a mutation\n",
    "    strength = .3\n",
    "\n",
    "    for g in tqdm(range(MAX_GENERATIONS)):\n",
    "        offspring = list()\n",
    "        \n",
    "        # Self adaptive strength -> we prefer mutation (exploitation) going on with the generations\n",
    "        if g % 100 == 0 and g != 0:\n",
    "            strength += 0.2\n",
    "\n",
    "        for _ in range(OFFSPRING_SIZE):\n",
    "            #HYPERMODERN\n",
    "            if np.random.random() < strength:\n",
    "                #MUTATION\n",
    "                p = parent_selection(population)\n",
    "                o = mutation(p, init_city)\n",
    "            else:\n",
    "                #RECOMBINATION\n",
    "                p1 = parent_selection(population)\n",
    "                p2 = parent_selection(population)\n",
    "                o = xover(p1, p2, init_city)\n",
    "\n",
    "            offspring.append(o)\n",
    "\n",
    "        population.extend(offspring)\n",
    "        population.sort(key=lambda i: i.fitness, reverse=False)\n",
    "\n",
    "        population = population[:POPULATION_SIZE]\n",
    "\n",
    "    return population[0].genome, population[0].fitness\n"
   ]
  },
  {
   "cell_type": "code",
   "execution_count": 647,
   "metadata": {},
   "outputs": [
    {
     "name": "stdout",
     "output_type": "stream",
     "text": [
      "-----------------------------\n",
      "\n",
      "Processing: China\n",
      "Number of cities: 726\n",
      "Initial path: [0, 186, 505, 677, 570, 508, 285, 264, 289, 93, 46, 157, 513, 328, 384, 419, 212, 252, 114, 197, 359, 636, 550, 229, 414, 173, 396, 397, 198, 290, 101, 451, 395, 233, 23, 507, 240, 191, 399, 644, 539, 516, 174, 28, 573, 412, 450, 232, 358, 681, 629, 172, 235, 685, 382, 154, 239, 192, 457, 469, 356, 207, 5, 696, 699, 514, 435, 434, 532, 16, 554, 545, 506, 538, 540, 138, 108, 671, 492, 519, 95, 327, 12, 287, 329, 616, 33, 139, 34, 59, 283, 338, 418, 650, 87, 142, 557, 430, 79, 711, 105, 81, 126, 36, 543, 18, 343, 481, 133, 544, 234, 605, 444, 346, 531, 183, 530, 143, 535, 309, 218, 31, 549, 637, 470, 509, 52, 388, 123, 716, 146, 27, 459, 194, 41, 44, 220, 318, 38, 112, 196, 504, 443, 645, 718, 708, 690, 40, 305, 617, 523, 266, 326, 344, 403, 292, 199, 494, 613, 147, 366, 497, 375, 614, 103, 6, 21, 100, 609, 475, 182, 345, 569, 14, 187, 350, 230, 618, 563, 294, 700, 610, 615, 622, 680, 48, 626, 372, 575, 423, 468, 94, 156, 599, 638, 387, 445, 291, 268, 149, 56, 256, 646, 471, 674, 662, 337, 477, 564, 588, 596, 608, 542, 180, 211, 335, 129, 370, 237, 262, 168, 528, 282, 668, 634, 623, 666, 510, 88, 128, 553, 277, 206, 24, 120, 672, 630, 426, 169, 102, 312, 347, 19, 705, 439, 585, 339, 647, 89, 503, 176, 572, 576, 342, 25, 580, 267, 692, 288, 258, 673, 115, 179, 552, 555, 394, 134, 49, 496, 303, 556, 298, 522, 39, 653, 551, 1, 2, 210, 474, 299, 15, 300, 3, 155, 612, 537, 361, 161, 310, 26, 90, 92, 560, 7, 502, 83, 313, 96, 411, 682, 591, 643, 652, 706, 274, 82, 703, 702, 642, 275, 515, 490, 43, 501, 461, 670, 348, 208, 65, 594, 91, 223, 121, 225, 577, 181, 597, 648, 8, 160, 619, 518, 536, 436, 595, 380, 365, 190, 125, 58, 578, 378, 404, 293, 657, 701, 635, 243, 529, 247, 527, 273, 248, 686, 408, 54, 302, 524, 476, 425, 257, 548, 177, 579, 238, 97, 184, 140, 332, 714, 654, 111, 663, 276, 311, 242, 456, 246, 479, 98, 320, 270, 195, 400, 145, 691, 621, 241, 271, 720, 64, 316, 51, 437, 200, 593, 485, 592, 717, 331, 590, 428, 353, 53, 392, 665, 656, 47, 280, 687, 284, 215, 209, 547, 295, 137, 116, 167, 442, 13, 352, 624, 455, 279, 301, 381, 9, 171, 362, 678, 707, 297, 153, 512, 272, 333, 376, 466, 78, 72, 367, 420, 601, 698, 574, 37, 458, 725, 67, 377, 661, 76, 244, 69, 29, 189, 158, 226, 401, 517, 721, 413, 719, 641, 321, 117, 628, 448, 70, 113, 422, 159, 99, 391, 495, 390, 249, 62, 385, 135, 402, 330, 119, 559, 185, 22, 715, 709, 261, 42, 660, 214, 521, 627, 600, 533, 722, 723, 640, 454, 667, 478, 204, 589, 433, 683, 124, 349, 193, 324, 620, 429, 520, 217, 213, 534, 606, 151, 109, 77, 631, 462, 57, 581, 281, 355, 655, 417, 625, 546, 68, 10, 541, 369, 73, 393, 35, 216, 676, 85, 487, 480, 679, 74, 415, 127, 491, 341, 224, 374, 253, 567, 669, 568, 463, 132, 131, 416, 50, 136, 409, 432, 20, 453, 278, 440, 500, 398, 587, 357, 693, 689, 363, 659, 472, 407, 250, 251, 583, 486, 166, 651, 334, 141, 286, 464, 582, 222, 351, 710, 460, 712, 11, 561, 55, 424, 308, 695, 360, 421, 452, 307, 306, 265, 438, 255, 148, 254, 178, 467, 566, 562, 639, 724, 61, 340, 66, 603, 688, 364, 323, 319, 488, 664, 164, 354, 202, 304, 163, 165, 32, 45, 371, 675, 150, 697, 511, 604, 130, 162, 221, 499, 80, 598, 704, 245, 489, 296, 525, 526, 118, 633, 632, 383, 152, 227, 571, 694, 107, 317, 322, 30, 446, 122, 110, 71, 406, 658, 188, 269, 17, 611, 586, 205, 325, 315, 484, 379, 649, 75, 684, 498, 106, 236, 493, 84, 427, 231, 373, 203, 170, 483, 260, 259, 228, 368, 431, 263, 389, 175, 482, 4, 63, 60, 219, 386, 607, 201, 410, 405, 144, 465, 441, 713, 565, 447, 558, 584, 473, 104, 86, 336, 449, 314, 602, 0]\n",
      "Initial length: 63962.918429455196 km\n"
     ]
    },
    {
     "data": {
      "application/vnd.jupyter.widget-view+json": {
       "model_id": "29953998824746038962d9cbecd55ed0",
       "version_major": 2,
       "version_minor": 0
      },
      "text/plain": [
       "  0%|          | 0/1000 [00:00<?, ?it/s]"
      ]
     },
     "metadata": {},
     "output_type": "display_data"
    },
    {
     "name": "stdout",
     "output_type": "stream",
     "text": [
      "\n",
      "Best distance found: 62578.566922521226 km\n",
      "Best path: [0, 186, 505, 677, 570, 508, 285, 264, 289, 93, 46, 157, 513, 328, 384, 419, 212, 252, 114, 197, 359, 636, 550, 229, 414, 173, 396, 397, 198, 290, 101, 451, 395, 233, 23, 507, 240, 191, 399, 644, 539, 516, 174, 28, 573, 412, 450, 232, 358, 681, 629, 172, 235, 685, 382, 154, 239, 192, 457, 469, 356, 207, 5, 696, 699, 514, 435, 434, 532, 16, 554, 545, 506, 538, 540, 138, 108, 671, 492, 519, 95, 327, 12, 287, 329, 616, 33, 139, 34, 59, 283, 338, 418, 650, 87, 142, 557, 430, 79, 711, 105, 81, 126, 36, 543, 18, 343, 481, 133, 544, 234, 605, 444, 346, 531, 183, 530, 143, 535, 309, 218, 31, 549, 637, 470, 509, 52, 388, 123, 716, 146, 27, 459, 194, 41, 44, 220, 318, 38, 112, 196, 504, 443, 645, 718, 708, 690, 40, 305, 617, 523, 266, 326, 344, 403, 292, 199, 494, 613, 147, 366, 497, 375, 614, 103, 6, 21, 100, 609, 475, 182, 345, 569, 14, 187, 350, 230, 618, 563, 294, 688, 603, 66, 340, 61, 724, 639, 562, 566, 467, 178, 254, 148, 255, 438, 265, 306, 307, 452, 421, 360, 695, 308, 424, 55, 561, 11, 712, 460, 631, 462, 57, 581, 281, 355, 655, 417, 625, 546, 68, 10, 541, 369, 73, 393, 35, 216, 676, 85, 487, 480, 679, 74, 415, 127, 491, 341, 224, 374, 253, 567, 669, 568, 463, 132, 131, 416, 50, 136, 409, 432, 20, 453, 278, 440, 500, 398, 587, 357, 693, 689, 363, 659, 472, 407, 250, 251, 583, 486, 166, 651, 334, 141, 286, 464, 582, 222, 351, 710, 77, 109, 151, 606, 534, 213, 217, 520, 429, 620, 324, 193, 349, 124, 683, 433, 589, 204, 478, 667, 454, 640, 723, 722, 533, 600, 627, 521, 214, 660, 42, 261, 709, 715, 22, 185, 559, 119, 330, 402, 135, 385, 62, 249, 390, 495, 391, 99, 159, 422, 113, 70, 448, 628, 117, 321, 641, 719, 413, 721, 517, 401, 226, 158, 189, 29, 69, 244, 76, 661, 377, 67, 725, 458, 37, 574, 698, 601, 420, 367, 72, 78, 466, 376, 333, 272, 512, 153, 297, 707, 678, 362, 171, 9, 381, 301, 279, 455, 624, 352, 13, 442, 167, 116, 137, 295, 547, 209, 215, 284, 687, 280, 47, 656, 665, 392, 53, 353, 428, 590, 331, 717, 592, 485, 593, 200, 437, 51, 316, 64, 720, 271, 241, 621, 691, 145, 400, 195, 270, 320, 98, 479, 246, 456, 242, 311, 276, 663, 111, 654, 714, 332, 140, 184, 97, 238, 579, 177, 548, 257, 425, 476, 524, 302, 54, 408, 686, 248, 273, 527, 247, 529, 243, 635, 701, 657, 293, 404, 378, 578, 58, 125, 190, 365, 380, 595, 436, 536, 518, 619, 160, 8, 648, 597, 181, 577, 225, 121, 223, 91, 594, 65, 208, 348, 670, 461, 501, 43, 490, 515, 275, 642, 702, 703, 82, 274, 706, 652, 643, 591, 682, 411, 96, 313, 83, 502, 7, 560, 92, 90, 26, 310, 161, 361, 537, 612, 155, 602, 314, 449, 336, 86, 104, 473, 584, 558, 447, 565, 713, 441, 465, 144, 405, 410, 201, 607, 386, 219, 60, 63, 4, 482, 175, 389, 263, 431, 368, 228, 259, 260, 483, 170, 203, 373, 231, 427, 84, 493, 236, 106, 498, 684, 75, 649, 379, 484, 315, 325, 205, 586, 611, 17, 269, 188, 658, 406, 71, 110, 122, 446, 30, 322, 317, 107, 694, 571, 227, 152, 383, 632, 633, 118, 526, 525, 296, 489, 245, 704, 598, 80, 499, 221, 162, 130, 604, 511, 697, 150, 675, 371, 45, 32, 165, 163, 304, 202, 354, 164, 664, 488, 319, 323, 364, 615, 610, 700, 622, 680, 48, 626, 372, 575, 423, 468, 94, 156, 599, 638, 387, 445, 291, 268, 149, 56, 256, 646, 471, 674, 662, 337, 477, 564, 588, 596, 608, 542, 180, 211, 335, 129, 370, 237, 262, 168, 528, 282, 668, 634, 623, 666, 510, 88, 128, 553, 277, 206, 24, 120, 672, 630, 426, 169, 102, 312, 347, 19, 705, 439, 585, 339, 647, 89, 503, 176, 572, 576, 342, 25, 580, 267, 692, 288, 258, 673, 115, 179, 552, 555, 394, 134, 49, 496, 303, 556, 298, 522, 39, 653, 551, 1, 2, 210, 474, 299, 15, 300, 3, 0]\n",
      "Number of steps: 726\n",
      "\n",
      "Known best result: - km\n"
     ]
    }
   ],
   "source": [
    "selected_country = 0 #China\n",
    "init_city = 0\n",
    "\n",
    "\n",
    "print('-----------------------------')\n",
    "print(f\"\\nProcessing: {countries[selected_country]}\")\n",
    "        \n",
    "# Loading city data and generate distance matrix\n",
    "cities, dist_matrix = init_data(countries[selected_country])\n",
    "print(f\"Number of cities: {dist_matrix.shape[0]}\")\n",
    "        \n",
    "# Generating a greedy initial solution\n",
    "greedy_solution = greedy_tsp(cities, dist_matrix, init_city)\n",
    "print(f\"Initial path: {greedy_solution}\")\n",
    "print(f\"Initial length: {fitness(greedy_solution)} km\")\n",
    "\n",
    "# Genetic algorithm to find the best solution\n",
    "best_path, best_distance = genetic_algorithm(\n",
    "            init_city, greedy_solution, \n",
    "            percentage_greedy=PERC_GREEDYs[selected_country], \n",
    "            POPULATION_SIZE=POPULATION_SIZES[selected_country], \n",
    "            OFFSPRING_SIZE=OFFSPRING_SIZES[selected_country], \n",
    "            MAX_GENERATIONS=MAX_GENERATIONS_list[selected_country],\n",
    "            mutation_type=inversion_mutation, \n",
    "            xover_type=inverOver\n",
    "        )\n",
    "\n",
    "# Results\n",
    "print(f\"\\nBest distance found: {best_distance} km\")\n",
    "print(f\"Best path: {best_path}\")\n",
    "print(f\"Number of steps: {len(best_path) - 1}\")\n",
    "print(f\"\\nKnown best result: {BEST_RESULTS[selected_country]} km\")"
   ]
  }
 ],
 "metadata": {
  "kernelspec": {
   "display_name": "venv",
   "language": "python",
   "name": "python3"
  },
  "language_info": {
   "codemirror_mode": {
    "name": "ipython",
    "version": 3
   },
   "file_extension": ".py",
   "mimetype": "text/x-python",
   "name": "python",
   "nbconvert_exporter": "python",
   "pygments_lexer": "ipython3",
   "version": "3.12.6"
  }
 },
 "nbformat": 4,
 "nbformat_minor": 2
}
